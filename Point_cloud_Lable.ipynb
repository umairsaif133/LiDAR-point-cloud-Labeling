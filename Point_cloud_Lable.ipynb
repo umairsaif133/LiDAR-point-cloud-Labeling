{
 "cells": [
  {
   "cell_type": "code",
   "execution_count": 1,
   "id": "ee2007b9-f9ba-41d0-bb42-56b498aac327",
   "metadata": {},
   "outputs": [
    {
     "name": "stdout",
     "output_type": "stream",
     "text": [
      "Requirement already satisfied: laspy in c:\\users\\umair.muhammad\\appdata\\local\\miniconda3\\envs\\tf\\lib\\site-packages (2.6.1)\n",
      "Requirement already satisfied: numpy in c:\\users\\umair.muhammad\\appdata\\local\\miniconda3\\envs\\tf\\lib\\site-packages (from laspy) (1.26.4)\n",
      "Requirement already satisfied: laspy[lazrs] in c:\\users\\umair.muhammad\\appdata\\local\\miniconda3\\envs\\tf\\lib\\site-packages (2.6.1)\n",
      "Requirement already satisfied: numpy in c:\\users\\umair.muhammad\\appdata\\local\\miniconda3\\envs\\tf\\lib\\site-packages (from laspy[lazrs]) (1.26.4)\n",
      "Requirement already satisfied: lazrs<0.8.0,>=0.7.0 in c:\\users\\umair.muhammad\\appdata\\local\\miniconda3\\envs\\tf\\lib\\site-packages (from laspy[lazrs]) (0.7.0)\n",
      "Requirement already satisfied: laszip in c:\\users\\umair.muhammad\\appdata\\local\\miniconda3\\envs\\tf\\lib\\site-packages (0.2.3)\n",
      "Requirement already satisfied: open3d in c:\\users\\umair.muhammad\\appdata\\local\\miniconda3\\envs\\tf\\lib\\site-packages (0.19.0)\n",
      "Requirement already satisfied: numpy>=1.18.0 in c:\\users\\umair.muhammad\\appdata\\local\\miniconda3\\envs\\tf\\lib\\site-packages (from open3d) (1.26.4)\n",
      "Requirement already satisfied: dash>=2.6.0 in c:\\users\\umair.muhammad\\appdata\\local\\miniconda3\\envs\\tf\\lib\\site-packages (from open3d) (3.2.0)\n",
      "Requirement already satisfied: werkzeug>=3.0.0 in c:\\users\\umair.muhammad\\appdata\\local\\miniconda3\\envs\\tf\\lib\\site-packages (from open3d) (3.1.3)\n",
      "Requirement already satisfied: flask>=3.0.0 in c:\\users\\umair.muhammad\\appdata\\local\\miniconda3\\envs\\tf\\lib\\site-packages (from open3d) (3.1.2)\n",
      "Requirement already satisfied: nbformat>=5.7.0 in c:\\users\\umair.muhammad\\appdata\\local\\miniconda3\\envs\\tf\\lib\\site-packages (from open3d) (5.10.4)\n",
      "Requirement already satisfied: configargparse in c:\\users\\umair.muhammad\\appdata\\local\\miniconda3\\envs\\tf\\lib\\site-packages (from open3d) (1.7.1)\n",
      "Requirement already satisfied: ipywidgets>=8.0.4 in c:\\users\\umair.muhammad\\appdata\\local\\miniconda3\\envs\\tf\\lib\\site-packages (from open3d) (8.1.7)\n",
      "Requirement already satisfied: plotly>=5.0.0 in c:\\users\\umair.muhammad\\appdata\\local\\miniconda3\\envs\\tf\\lib\\site-packages (from dash>=2.6.0->open3d) (6.3.0)\n",
      "Requirement already satisfied: importlib-metadata in c:\\users\\umair.muhammad\\appdata\\local\\miniconda3\\envs\\tf\\lib\\site-packages (from dash>=2.6.0->open3d) (8.7.0)\n",
      "Requirement already satisfied: typing-extensions>=4.1.1 in c:\\users\\umair.muhammad\\appdata\\local\\miniconda3\\envs\\tf\\lib\\site-packages (from dash>=2.6.0->open3d) (4.15.0)\n",
      "Requirement already satisfied: requests in c:\\users\\umair.muhammad\\appdata\\local\\miniconda3\\envs\\tf\\lib\\site-packages (from dash>=2.6.0->open3d) (2.32.5)\n",
      "Requirement already satisfied: retrying in c:\\users\\umair.muhammad\\appdata\\local\\miniconda3\\envs\\tf\\lib\\site-packages (from dash>=2.6.0->open3d) (1.4.2)\n",
      "Requirement already satisfied: nest-asyncio in c:\\users\\umair.muhammad\\appdata\\local\\miniconda3\\envs\\tf\\lib\\site-packages (from dash>=2.6.0->open3d) (1.6.0)\n",
      "Requirement already satisfied: setuptools in c:\\users\\umair.muhammad\\appdata\\local\\miniconda3\\envs\\tf\\lib\\site-packages (from dash>=2.6.0->open3d) (78.1.1)\n",
      "Requirement already satisfied: blinker>=1.9.0 in c:\\users\\umair.muhammad\\appdata\\local\\miniconda3\\envs\\tf\\lib\\site-packages (from flask>=3.0.0->open3d) (1.9.0)\n",
      "Requirement already satisfied: click>=8.1.3 in c:\\users\\umair.muhammad\\appdata\\local\\miniconda3\\envs\\tf\\lib\\site-packages (from flask>=3.0.0->open3d) (8.1.8)\n",
      "Requirement already satisfied: itsdangerous>=2.2.0 in c:\\users\\umair.muhammad\\appdata\\local\\miniconda3\\envs\\tf\\lib\\site-packages (from flask>=3.0.0->open3d) (2.2.0)\n",
      "Requirement already satisfied: jinja2>=3.1.2 in c:\\users\\umair.muhammad\\appdata\\local\\miniconda3\\envs\\tf\\lib\\site-packages (from flask>=3.0.0->open3d) (3.1.6)\n",
      "Requirement already satisfied: markupsafe>=2.1.1 in c:\\users\\umair.muhammad\\appdata\\local\\miniconda3\\envs\\tf\\lib\\site-packages (from flask>=3.0.0->open3d) (3.0.2)\n",
      "Requirement already satisfied: colorama in c:\\users\\umair.muhammad\\appdata\\local\\miniconda3\\envs\\tf\\lib\\site-packages (from click>=8.1.3->flask>=3.0.0->open3d) (0.4.6)\n",
      "Requirement already satisfied: comm>=0.1.3 in c:\\users\\umair.muhammad\\appdata\\local\\miniconda3\\envs\\tf\\lib\\site-packages (from ipywidgets>=8.0.4->open3d) (0.2.1)\n",
      "Requirement already satisfied: ipython>=6.1.0 in c:\\users\\umair.muhammad\\appdata\\local\\miniconda3\\envs\\tf\\lib\\site-packages (from ipywidgets>=8.0.4->open3d) (8.30.0)\n",
      "Requirement already satisfied: traitlets>=4.3.1 in c:\\users\\umair.muhammad\\appdata\\local\\miniconda3\\envs\\tf\\lib\\site-packages (from ipywidgets>=8.0.4->open3d) (5.14.3)\n",
      "Requirement already satisfied: widgetsnbextension~=4.0.14 in c:\\users\\umair.muhammad\\appdata\\local\\miniconda3\\envs\\tf\\lib\\site-packages (from ipywidgets>=8.0.4->open3d) (4.0.14)\n",
      "Requirement already satisfied: jupyterlab_widgets~=3.0.15 in c:\\users\\umair.muhammad\\appdata\\local\\miniconda3\\envs\\tf\\lib\\site-packages (from ipywidgets>=8.0.4->open3d) (3.0.15)\n",
      "Requirement already satisfied: decorator in c:\\users\\umair.muhammad\\appdata\\local\\miniconda3\\envs\\tf\\lib\\site-packages (from ipython>=6.1.0->ipywidgets>=8.0.4->open3d) (5.2.1)\n",
      "Requirement already satisfied: jedi>=0.16 in c:\\users\\umair.muhammad\\appdata\\local\\miniconda3\\envs\\tf\\lib\\site-packages (from ipython>=6.1.0->ipywidgets>=8.0.4->open3d) (0.19.2)\n",
      "Requirement already satisfied: matplotlib-inline in c:\\users\\umair.muhammad\\appdata\\local\\miniconda3\\envs\\tf\\lib\\site-packages (from ipython>=6.1.0->ipywidgets>=8.0.4->open3d) (0.1.6)\n",
      "Requirement already satisfied: prompt-toolkit<3.1.0,>=3.0.41 in c:\\users\\umair.muhammad\\appdata\\local\\miniconda3\\envs\\tf\\lib\\site-packages (from ipython>=6.1.0->ipywidgets>=8.0.4->open3d) (3.0.43)\n",
      "Requirement already satisfied: pygments>=2.4.0 in c:\\users\\umair.muhammad\\appdata\\local\\miniconda3\\envs\\tf\\lib\\site-packages (from ipython>=6.1.0->ipywidgets>=8.0.4->open3d) (2.19.1)\n",
      "Requirement already satisfied: stack-data in c:\\users\\umair.muhammad\\appdata\\local\\miniconda3\\envs\\tf\\lib\\site-packages (from ipython>=6.1.0->ipywidgets>=8.0.4->open3d) (0.6.3)\n",
      "Requirement already satisfied: exceptiongroup in c:\\users\\umair.muhammad\\appdata\\local\\miniconda3\\envs\\tf\\lib\\site-packages (from ipython>=6.1.0->ipywidgets>=8.0.4->open3d) (1.2.0)\n",
      "Requirement already satisfied: wcwidth in c:\\users\\umair.muhammad\\appdata\\local\\miniconda3\\envs\\tf\\lib\\site-packages (from prompt-toolkit<3.1.0,>=3.0.41->ipython>=6.1.0->ipywidgets>=8.0.4->open3d) (0.2.13)\n",
      "Requirement already satisfied: parso<0.9.0,>=0.8.4 in c:\\users\\umair.muhammad\\appdata\\local\\miniconda3\\envs\\tf\\lib\\site-packages (from jedi>=0.16->ipython>=6.1.0->ipywidgets>=8.0.4->open3d) (0.8.4)\n",
      "Requirement already satisfied: fastjsonschema>=2.15 in c:\\users\\umair.muhammad\\appdata\\local\\miniconda3\\envs\\tf\\lib\\site-packages (from nbformat>=5.7.0->open3d) (2.20.0)\n",
      "Requirement already satisfied: jsonschema>=2.6 in c:\\users\\umair.muhammad\\appdata\\local\\miniconda3\\envs\\tf\\lib\\site-packages (from nbformat>=5.7.0->open3d) (4.25.0)\n",
      "Requirement already satisfied: jupyter-core!=5.0.*,>=4.12 in c:\\users\\umair.muhammad\\appdata\\local\\miniconda3\\envs\\tf\\lib\\site-packages (from nbformat>=5.7.0->open3d) (5.8.1)\n",
      "Requirement already satisfied: attrs>=22.2.0 in c:\\users\\umair.muhammad\\appdata\\local\\miniconda3\\envs\\tf\\lib\\site-packages (from jsonschema>=2.6->nbformat>=5.7.0->open3d) (24.3.0)\n",
      "Requirement already satisfied: jsonschema-specifications>=2023.03.6 in c:\\users\\umair.muhammad\\appdata\\local\\miniconda3\\envs\\tf\\lib\\site-packages (from jsonschema>=2.6->nbformat>=5.7.0->open3d) (2023.7.1)\n",
      "Requirement already satisfied: referencing>=0.28.4 in c:\\users\\umair.muhammad\\appdata\\local\\miniconda3\\envs\\tf\\lib\\site-packages (from jsonschema>=2.6->nbformat>=5.7.0->open3d) (0.30.2)\n",
      "Requirement already satisfied: rpds-py>=0.7.1 in c:\\users\\umair.muhammad\\appdata\\local\\miniconda3\\envs\\tf\\lib\\site-packages (from jsonschema>=2.6->nbformat>=5.7.0->open3d) (0.22.3)\n",
      "Requirement already satisfied: platformdirs>=2.5 in c:\\users\\umair.muhammad\\appdata\\local\\miniconda3\\envs\\tf\\lib\\site-packages (from jupyter-core!=5.0.*,>=4.12->nbformat>=5.7.0->open3d) (4.3.7)\n",
      "Requirement already satisfied: pywin32>=300 in c:\\users\\umair.muhammad\\appdata\\local\\miniconda3\\envs\\tf\\lib\\site-packages (from jupyter-core!=5.0.*,>=4.12->nbformat>=5.7.0->open3d) (311)\n",
      "Requirement already satisfied: narwhals>=1.15.1 in c:\\users\\umair.muhammad\\appdata\\local\\miniconda3\\envs\\tf\\lib\\site-packages (from plotly>=5.0.0->dash>=2.6.0->open3d) (1.31.0)\n",
      "Requirement already satisfied: packaging in c:\\users\\umair.muhammad\\appdata\\local\\miniconda3\\envs\\tf\\lib\\site-packages (from plotly>=5.0.0->dash>=2.6.0->open3d) (25.0)\n",
      "Requirement already satisfied: zipp>=3.20 in c:\\users\\umair.muhammad\\appdata\\local\\miniconda3\\envs\\tf\\lib\\site-packages (from importlib-metadata->dash>=2.6.0->open3d) (3.23.0)\n",
      "Requirement already satisfied: charset_normalizer<4,>=2 in c:\\users\\umair.muhammad\\appdata\\local\\miniconda3\\envs\\tf\\lib\\site-packages (from requests->dash>=2.6.0->open3d) (3.3.2)\n",
      "Requirement already satisfied: idna<4,>=2.5 in c:\\users\\umair.muhammad\\appdata\\local\\miniconda3\\envs\\tf\\lib\\site-packages (from requests->dash>=2.6.0->open3d) (3.7)\n",
      "Requirement already satisfied: urllib3<3,>=1.21.1 in c:\\users\\umair.muhammad\\appdata\\local\\miniconda3\\envs\\tf\\lib\\site-packages (from requests->dash>=2.6.0->open3d) (2.5.0)\n",
      "Requirement already satisfied: certifi>=2017.4.17 in c:\\users\\umair.muhammad\\appdata\\local\\miniconda3\\envs\\tf\\lib\\site-packages (from requests->dash>=2.6.0->open3d) (2025.8.3)\n",
      "Requirement already satisfied: executing>=1.2.0 in c:\\users\\umair.muhammad\\appdata\\local\\miniconda3\\envs\\tf\\lib\\site-packages (from stack-data->ipython>=6.1.0->ipywidgets>=8.0.4->open3d) (2.2.1)\n",
      "Requirement already satisfied: asttokens>=2.1.0 in c:\\users\\umair.muhammad\\appdata\\local\\miniconda3\\envs\\tf\\lib\\site-packages (from stack-data->ipython>=6.1.0->ipywidgets>=8.0.4->open3d) (3.0.0)\n",
      "Requirement already satisfied: pure_eval in c:\\users\\umair.muhammad\\appdata\\local\\miniconda3\\envs\\tf\\lib\\site-packages (from stack-data->ipython>=6.1.0->ipywidgets>=8.0.4->open3d) (0.2.3)\n"
     ]
    }
   ],
   "source": [
    "!pip install laspy\n",
    "!pip install laspy[lazrs]\n",
    "!pip install laszip\n",
    "!pip install open3d"
   ]
  },
  {
   "cell_type": "code",
   "execution_count": 18,
   "id": "1b814985-df6c-472b-b868-367921571d56",
   "metadata": {},
   "outputs": [
    {
     "name": "stdout",
     "output_type": "stream",
     "text": [
      "(306546, 3)\n"
     ]
    }
   ],
   "source": [
    "import laspy\n",
    "import numpy as np\n",
    "\n",
    "# Load .las file\n",
    "las = laspy.read(\"C:/Users/umair.muhammad/Documents/PhD/Research Work/FedLearn/training/site1/site1 las/Site1_1.las\")\n",
    "\n",
    "# Extract coordinates\n",
    "points = np.vstack((las.x, las.y, las.z)).T\n",
    "print(points.shape)  # (N, 3)\n"
   ]
  },
  {
   "cell_type": "code",
   "execution_count": null,
   "id": "21f13d9a-bac9-4b36-96ed-a03058bd9fda",
   "metadata": {},
   "outputs": [],
   "source": [
    "import open3d as o3d\n",
    "\n",
    "# Create an Open3D point cloud\n",
    "pcd = o3d.geometry.PointCloud()\n",
    "pcd.points = o3d.utility.Vector3dVector(points)\n",
    "\n",
    "# Visualize the point cloud\n",
    "o3d.visualization.draw_geometries([pcd])"
   ]
  },
  {
   "cell_type": "code",
   "execution_count": 13,
   "id": "2217133e-c0f8-4965-88ad-bc2f4d0e17b2",
   "metadata": {},
   "outputs": [
    {
     "name": "stdout",
     "output_type": "stream",
     "text": [
      "           Name           X            Y       Z\n",
      "0  Site1_1_P1_S  452625.500  7183542.099  145.54\n",
      "1  Site1_1_P1_F  452625.658  7183541.602  145.53\n",
      "2  Site1_1_P2_S  452626.749  7183538.561  145.52\n",
      "3  Site1_1_P2_F  452627.003  7183538.362  145.57\n",
      "4  Site1_1_P3_S  452642.015  7183501.636  145.79\n"
     ]
    }
   ],
   "source": [
    "import pandas as pd\n",
    "\n",
    "regions = pd.read_csv(\"C:/Users/umair.muhammad/Documents/PhD/Research Work/FedLearn/training/site1/site1 csv/Site1_1.csv\")\n",
    "print(regions.head())"
   ]
  },
  {
   "cell_type": "code",
   "execution_count": 14,
   "id": "679c04cd-d7ab-47cf-ac18-a8cf551866f0",
   "metadata": {},
   "outputs": [],
   "source": [
    "# Group start and end points\n",
    "regions['Group'] = regions['Name'].str.extract(r'(Site\\d+_\\d+_P\\d+)')\n",
    "\n",
    "# Pivot start and end\n",
    "damage_regions = regions.pivot(index='Group', columns='Name', values=['X', 'Y', 'Z'])"
   ]
  },
  {
   "cell_type": "code",
   "execution_count": 17,
   "id": "c5e47d3d-9e5b-443e-bb6b-c9f0a656d9fa",
   "metadata": {},
   "outputs": [
    {
     "name": "stdout",
     "output_type": "stream",
     "text": [
      "✅ Loaded 20 damage boxes\n",
      "✅ Assigned 497 damaged points out of 306546 total\n",
      "🎉 Saved labeled data to road_damage_points.h5\n"
     ]
    }
   ],
   "source": [
    "import laspy\n",
    "import numpy as np\n",
    "import pandas as pd\n",
    "import h5py\n",
    "import os\n",
    "\n",
    "# ==== INPUT FILES ====\n",
    "las_file = \"C:/Users/umair.muhammad/Documents/PhD/Research Work/FedLearn/training/site1/site1 las/Site1_1.las\"\n",
    "txt_file = \"C:/Users/umair.muhammad/Documents/PhD/Research Work/FedLearn/training/site1/site1 csv/Site1_1.csv\"   # your .txt file with S/F lines\n",
    "\n",
    "# ==== LOAD POINT CLOUD ====\n",
    "las = laspy.read(las_file)\n",
    "points = np.vstack((las.x, las.y, las.z)).T\n",
    "\n",
    "# ==== LOAD DAMAGE COORDINATES ====\n",
    "# Skip first 'Cartesian' line if it exists\n",
    "with open(txt_file, 'r', encoding='utf-8', errors='ignore') as f:\n",
    "    lines = [l for l in f.readlines() if not l.strip().startswith(\"Cartesian\")]\n",
    "from io import StringIO\n",
    "df = pd.read_csv(StringIO(\"\".join(lines)))\n",
    "\n",
    "# Keep needed columns\n",
    "df = df[[\"Name\", \"X\", \"Y\", \"Z\"]]\n",
    "\n",
    "# ==== BUILD DAMAGE BOXES ====\n",
    "damage_boxes = []\n",
    "for i in range(0, len(df), 2):  # assumes each S/F pair are consecutive\n",
    "    name_start = df.iloc[i][\"Name\"]\n",
    "    name_end   = df.iloc[i+1][\"Name\"]\n",
    "    x1, y1, z1 = df.iloc[i][[\"X\", \"Y\", \"Z\"]]\n",
    "    x2, y2, z2 = df.iloc[i+1][[\"X\", \"Y\", \"Z\"]]\n",
    "    \n",
    "    box = {\n",
    "        'xmin': min(x1, x2),\n",
    "        'xmax': max(x1, x2),\n",
    "        'ymin': min(y1, y2),\n",
    "        'ymax': max(y1, y2),\n",
    "        'zmin': min(z1, z2),\n",
    "        'zmax': max(z1, z2)\n",
    "    }\n",
    "    damage_boxes.append(box)\n",
    "\n",
    "print(f\"✅ Loaded {len(damage_boxes)} damage boxes\")\n",
    "\n",
    "# ==== LABEL POINTS ====\n",
    "labels = np.zeros(len(points), dtype=int)\n",
    "\n",
    "for box in damage_boxes:\n",
    "    in_box = (\n",
    "        (points[:,0] >= box['xmin']) & (points[:,0] <= box['xmax']) &\n",
    "        (points[:,1] >= box['ymin']) & (points[:,1] <= box['ymax']) &\n",
    "        (points[:,2] >= box['zmin']) & (points[:,2] <= box['zmax'])\n",
    "    )\n",
    "    labels[in_box] = 1  # mark as damaged\n",
    "\n",
    "print(f\"✅ Assigned {np.sum(labels)} damaged points out of {len(points)} total\")\n",
    "\n",
    "# ==== SAVE TO H5 ====\n",
    "out_h5 = \"road_damage_points.h5\"\n",
    "with h5py.File(out_h5, \"w\") as f:\n",
    "    f.create_dataset(\"data\", data=points)\n",
    "    f.create_dataset(\"label\", data=labels)\n",
    "\n",
    "print(f\"🎉 Saved labeled data to {out_h5}\")\n"
   ]
  },
  {
   "cell_type": "code",
   "execution_count": null,
   "id": "40796a8e-d8b7-40cf-9712-d182a758af30",
   "metadata": {},
   "outputs": [],
   "source": []
  }
 ],
 "metadata": {
  "kernelspec": {
   "display_name": "Python 3 (ipykernel)",
   "language": "python",
   "name": "python3"
  },
  "language_info": {
   "codemirror_mode": {
    "name": "ipython",
    "version": 3
   },
   "file_extension": ".py",
   "mimetype": "text/x-python",
   "name": "python",
   "nbconvert_exporter": "python",
   "pygments_lexer": "ipython3",
   "version": "3.10.13"
  }
 },
 "nbformat": 4,
 "nbformat_minor": 5
}
